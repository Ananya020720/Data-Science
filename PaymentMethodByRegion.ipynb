{
  "nbformat": 4,
  "nbformat_minor": 0,
  "metadata": {
    "colab": {
      "provenance": [],
      "toc_visible": true,
      "authorship_tag": "ABX9TyOvNEZdjjocfxKrmwFkz1EI",
      "include_colab_link": true
    },
    "kernelspec": {
      "name": "python3",
      "display_name": "Python 3"
    },
    "language_info": {
      "name": "python"
    }
  },
  "cells": [
    {
      "cell_type": "markdown",
      "metadata": {
        "id": "view-in-github",
        "colab_type": "text"
      },
      "source": [
        "<a href=\"https://colab.research.google.com/github/Ananya020720/Data-Science/blob/main/PaymentMethodByRegion.ipynb\" target=\"_parent\"><img src=\"https://colab.research.google.com/assets/colab-badge.svg\" alt=\"Open In Colab\"/></a>"
      ]
    },
    {
      "cell_type": "code",
      "execution_count": 3,
      "metadata": {
        "colab": {
          "base_uri": "https://localhost:8080/"
        },
        "id": "dZz2kpFvECCY",
        "outputId": "1af10f9c-ea68-49da-fe99-7a275dd00a5a"
      },
      "outputs": [
        {
          "output_type": "stream",
          "name": "stdout",
          "text": [
            "Region         Payment Method\n",
            "Asia           Credit Card       40\n",
            "               Debit Card        40\n",
            "Europe         PayPal            80\n",
            "North America  Credit Card       80\n",
            "dtype: int64\n"
          ]
        }
      ],
      "source": [
        "import pandas as pd\n",
        "\n",
        "# Load data\n",
        "sales_data = pd.read_csv('sales_data.csv')\n",
        "\n",
        "# Cross-tabulate Region vs. Payment Method\n",
        "payment_preferences = sales_data.groupby(['Region', 'Payment Method']).size()\n",
        "\n",
        "# Display the result\n",
        "print(payment_preferences)\n"
      ]
    }
  ]
}